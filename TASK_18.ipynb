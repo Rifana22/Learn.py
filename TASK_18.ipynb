{
  "nbformat": 4,
  "nbformat_minor": 0,
  "metadata": {
    "colab": {
      "name": "TASK 18.ipynb",
      "provenance": [],
      "include_colab_link": true
    },
    "kernelspec": {
      "name": "python3",
      "display_name": "Python 3"
    },
    "language_info": {
      "name": "python"
    }
  },
  "cells": [
    {
      "cell_type": "markdown",
      "metadata": {
        "id": "view-in-github",
        "colab_type": "text"
      },
      "source": [
        "<a href=\"https://colab.research.google.com/github/Rifana22/Learn.py/blob/main/TASK_18.ipynb\" target=\"_parent\"><img src=\"https://colab.research.google.com/assets/colab-badge.svg\" alt=\"Open In Colab\"/></a>"
      ]
    },
    {
      "cell_type": "markdown",
      "metadata": {
        "id": "_JgXT8pEAjU4"
      },
      "source": [
        "1. \n",
        "Create a DataFrame by passing a random numpy array,with a datetie index and labelled columns.and,\n",
        "    - slice its first three rows and display.\n",
        "    - slice its odd indexed rows.\n",
        "    - display the dates from 1st postion to 4 th position."
      ]
    },
    {
      "cell_type": "code",
      "metadata": {
        "id": "5zFM5VOJBKBV",
        "outputId": "059fdbc1-4770-4cb7-9d06-4cae24544008",
        "colab": {
          "base_uri": "https://localhost:8080/"
        }
      },
      "source": [
        "#please provide your answer below this line.\n",
        " \n",
        "import pandas as pd\n",
        "import numpy as np\n",
        "dates=pd.date_range('20201010',periods=6)\n",
        "df=pd.DataFrame(np.random.randn(6,4),index=dates,columns=list('ABCD'))\n",
        "print(df)\n",
        "print(df.iloc[0:3])\n",
        "print(df.iloc[1::2])\n",
        "print(df.iloc[1:5])"
      ],
      "execution_count": 1,
      "outputs": [
        {
          "output_type": "stream",
          "name": "stdout",
          "text": [
            "                   A         B         C         D\n",
            "2020-10-10 -1.686392  1.299682  0.237848  0.612702\n",
            "2020-10-11 -0.158018  0.012203  0.108970 -0.601329\n",
            "2020-10-12  1.032246  0.125913 -0.729537 -1.260752\n",
            "2020-10-13  0.183066  0.222435  2.708439  0.497849\n",
            "2020-10-14  0.275210 -0.576827 -0.650298 -0.152354\n",
            "2020-10-15  1.480607 -0.412622  1.802806 -0.370696\n",
            "                   A         B         C         D\n",
            "2020-10-10 -1.686392  1.299682  0.237848  0.612702\n",
            "2020-10-11 -0.158018  0.012203  0.108970 -0.601329\n",
            "2020-10-12  1.032246  0.125913 -0.729537 -1.260752\n",
            "                   A         B         C         D\n",
            "2020-10-11 -0.158018  0.012203  0.108970 -0.601329\n",
            "2020-10-13  0.183066  0.222435  2.708439  0.497849\n",
            "2020-10-15  1.480607 -0.412622  1.802806 -0.370696\n",
            "                   A         B         C         D\n",
            "2020-10-11 -0.158018  0.012203  0.108970 -0.601329\n",
            "2020-10-12  1.032246  0.125913 -0.729537 -1.260752\n",
            "2020-10-13  0.183066  0.222435  2.708439  0.497849\n",
            "2020-10-14  0.275210 -0.576827 -0.650298 -0.152354\n"
          ]
        }
      ]
    },
    {
      "cell_type": "markdown",
      "metadata": {
        "id": "QuoucvjxBPmX"
      },
      "source": [
        "2. Create a DataFrame by passing a random numpy array,with a datetie index and labelled columns.and\n",
        "  - Dislplay the index from the 1 to 3 date and the columns A and B of respective data.\n",
        "  - Display the datas at the 3rd index.\n",
        "  - Display datas from 2nd to 5th.\n",
        "  - Display the datas from the index 1,2,4 and the column 0 and 2."
      ]
    },
    {
      "cell_type": "code",
      "metadata": {
        "id": "qV_wzsp1DUKI",
        "outputId": "a5e61587-7728-4903-cc1f-95582998ebcd",
        "colab": {
          "base_uri": "https://localhost:8080/"
        }
      },
      "source": [
        "#please provide your answer below thins line.\n",
        " \n",
        "import pandas as pd \n",
        "import numpy as np\n",
        "dates=pd.date_range('20201010',periods=6)\n",
        "df=pd.DataFrame(np.random.randn(6,4),index=dates,columns=list('ABCD'))\n",
        "print(df)\n",
        "print(df.iloc[1:4:,0:2])\n",
        "print(df.iloc[2:6])\n",
        "print(df.iloc[[1,2,4],[0,2]])"
      ],
      "execution_count": 2,
      "outputs": [
        {
          "output_type": "stream",
          "name": "stdout",
          "text": [
            "                   A         B         C         D\n",
            "2020-10-10  0.946040  1.245002 -0.207222  0.859989\n",
            "2020-10-11 -0.947229 -0.586555  0.659636  0.985634\n",
            "2020-10-12  0.030052  2.082863  2.426244  0.996200\n",
            "2020-10-13  0.480665 -0.069121 -0.462434  0.993617\n",
            "2020-10-14 -0.390631 -0.119647  0.003277  0.580653\n",
            "2020-10-15  0.084991  1.444431 -0.569887 -0.518646\n",
            "                   A         B\n",
            "2020-10-11 -0.947229 -0.586555\n",
            "2020-10-12  0.030052  2.082863\n",
            "2020-10-13  0.480665 -0.069121\n",
            "                   A         B         C         D\n",
            "2020-10-12  0.030052  2.082863  2.426244  0.996200\n",
            "2020-10-13  0.480665 -0.069121 -0.462434  0.993617\n",
            "2020-10-14 -0.390631 -0.119647  0.003277  0.580653\n",
            "2020-10-15  0.084991  1.444431 -0.569887 -0.518646\n",
            "                   A         C\n",
            "2020-10-11 -0.947229  0.659636\n",
            "2020-10-12  0.030052  2.426244\n",
            "2020-10-14 -0.390631  0.003277\n"
          ]
        }
      ]
    }
  ]
}