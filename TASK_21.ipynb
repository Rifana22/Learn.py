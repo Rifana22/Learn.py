{
  "nbformat": 4,
  "nbformat_minor": 0,
  "metadata": {
    "colab": {
      "name": "TASK 21.ipynb",
      "provenance": [],
      "include_colab_link": true
    },
    "kernelspec": {
      "name": "python3",
      "display_name": "Python 3"
    },
    "language_info": {
      "name": "python"
    }
  },
  "cells": [
    {
      "cell_type": "markdown",
      "metadata": {
        "id": "view-in-github",
        "colab_type": "text"
      },
      "source": [
        "<a href=\"https://colab.research.google.com/github/Rifana22/Learn.py/blob/main/TASK_21.ipynb\" target=\"_parent\"><img src=\"https://colab.research.google.com/assets/colab-badge.svg\" alt=\"Open In Colab\"/></a>"
      ]
    },
    {
      "cell_type": "markdown",
      "metadata": {
        "id": "wK9sv7fHTnyo"
      },
      "source": [
        "1.  Using the dataset given below,\n",
        "  - Group the given dataset by A and find the sum of the groups.\n",
        "  - Find the 3 least elements from the column D\n",
        "  - Find the 3 largest elements from the Column D which belongs to the group\n",
        "  'bar'."
      ]
    },
    {
      "cell_type": "code",
      "metadata": {
        "id": "C_Kq4i_rVNyB",
        "outputId": "e90cf1f2-79d0-48ea-fe95-6fc2aa7280e0",
        "colab": {
          "base_uri": "https://localhost:8080/"
        }
      },
      "source": [
        "import pandas as pd\n",
        "import numpy as np\n",
        "df = pd.DataFrame({'A' : ['foo', 'bar', 'foo', 'bar',\n",
        "                          'foo', 'bar', 'foo', 'foo'],\n",
        "                   'B' : ['one', 'one', 'two', 'three',\n",
        "                          'two', 'two', 'one', 'three'],\n",
        "                   'C' : np.random.randn(8),\n",
        "                   'D' : np.random.randn(8)})\n",
        "df\n",
        "#please type your code below this line.\n",
        "print(df)"
      ],
      "execution_count": 1,
      "outputs": [
        {
          "output_type": "stream",
          "name": "stdout",
          "text": [
            "     A      B         C         D\n",
            "0  foo    one -0.734129 -0.508926\n",
            "1  bar    one -0.758626 -1.072356\n",
            "2  foo    two -1.702062  0.412475\n",
            "3  bar  three -0.291994  1.741887\n",
            "4  foo    two -1.869117  0.379753\n",
            "5  bar    two -0.563530  0.137253\n",
            "6  foo    one -0.780524 -1.228779\n",
            "7  foo  three -1.914638 -1.314495\n"
          ]
        }
      ]
    },
    {
      "cell_type": "markdown",
      "metadata": {
        "id": "68XLHGsrdHXb"
      },
      "source": [
        "2. Using the dataset given below,\n",
        "  - convert the dataset into a csv file.\n",
        "  - read the csv file just saved\n",
        "  - covert the dataset into a excel file.\n",
        "  - read the excel file just saved."
      ]
    },
    {
      "cell_type": "code",
      "metadata": {
        "id": "J4BOx3UZdVLV",
        "outputId": "1b938dd1-e0b4-44a1-dd7b-abd51aa752bc",
        "colab": {
          "base_uri": "https://localhost:8080/"
        }
      },
      "source": [
        "import pandas as pd\n",
        "import numpy as np\n",
        "df = pd.DataFrame({'A' : ['foo', 'bar', 'foo', 'bar',\n",
        "                          'foo', 'bar', 'foo', 'foo'],\n",
        "                   'B' : ['one', 'one', 'two', 'three',\n",
        "                          'two', 'two', 'one', 'three'],\n",
        "                   'C' : np.random.randn(8),\n",
        "                   'D' : np.random.randn(8)})\n",
        "#please type your code below this line.\n",
        "print(df)"
      ],
      "execution_count": 2,
      "outputs": [
        {
          "output_type": "stream",
          "name": "stdout",
          "text": [
            "     A      B         C         D\n",
            "0  foo    one -0.639458 -1.032328\n",
            "1  bar    one  1.415820 -0.301100\n",
            "2  foo    two -0.276889  1.632752\n",
            "3  bar  three  1.407230 -0.125166\n",
            "4  foo    two  1.951347  0.321736\n",
            "5  bar    two  1.491712  0.089306\n",
            "6  foo    one  1.483210  0.607267\n",
            "7  foo  three -0.682566  0.292974\n"
          ]
        }
      ]
    }
  ]
}