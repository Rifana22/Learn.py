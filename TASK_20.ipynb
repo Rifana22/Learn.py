{
  "nbformat": 4,
  "nbformat_minor": 0,
  "metadata": {
    "colab": {
      "name": "TASK 20.ipynb",
      "provenance": [],
      "include_colab_link": true
    },
    "kernelspec": {
      "name": "python3",
      "display_name": "Python 3"
    },
    "language_info": {
      "name": "python"
    }
  },
  "cells": [
    {
      "cell_type": "markdown",
      "metadata": {
        "id": "view-in-github",
        "colab_type": "text"
      },
      "source": [
        "<a href=\"https://colab.research.google.com/github/Rifana22/Learn.py/blob/main/TASK_20.ipynb\" target=\"_parent\"><img src=\"https://colab.research.google.com/assets/colab-badge.svg\" alt=\"Open In Colab\"/></a>"
      ]
    },
    {
      "cell_type": "markdown",
      "metadata": {
        "id": "8LIfdcjDWmC3"
      },
      "source": [
        "1. In the data given below,\n",
        "  - find the boolean mask where value is nan\n",
        "  - remove the row with missing data.\n"
      ]
    },
    {
      "cell_type": "markdown",
      "metadata": {
        "id": "VPCGISRTbYPz"
      },
      "source": [
        ""
      ]
    },
    {
      "cell_type": "code",
      "metadata": {
        "colab": {
          "base_uri": "https://localhost:8080/",
          "height": 818
        },
        "id": "VsZQYRqXXHpG",
        "outputId": "d856de62-4d47-408a-ec90-55dd989e9eae"
      },
      "source": [
        "import pandas as pd\n",
        "import numpy as np\n",
        "dates = pd.date_range('20210101',periods=6)\n",
        "df = pd.DataFrame(np.random.randn(6,4), index=dates,columns=list('ABCD'))\n",
        "s1 = pd.Series([1,2,3,4,5,6], index=pd.date_range('20130102', periods=6))\n",
        "df[\"F\"]=s1\n",
        "df1=df.reindex(index=dates[0:4], columns=list(df.columns) + ['E'])\n",
        "df1.loc[dates[0]:dates[1],'E'] = 1\n",
        "df1\n",
        "#please provide your answer below this line\n",
        " \n",
        "print(df1.isnull())\n",
        "print(df1,dropna(axis=0))"
      ],
      "execution_count": 2,
      "outputs": [
        {
          "output_type": "stream",
          "name": "stdout",
          "text": [
            "                A      B      C      D     F      E\n",
            "2021-01-01  False  False  False  False  True  False\n",
            "2021-01-02  False  False  False  False  True  False\n",
            "2021-01-03  False  False  False  False  True   True\n",
            "2021-01-04  False  False  False  False  True   True\n"
          ]
        },
        {
          "output_type": "error",
          "ename": "NameError",
          "evalue": "ignored",
          "traceback": [
            "\u001b[0;31m---------------------------------------------------------------------------\u001b[0m",
            "\u001b[0;31mNameError\u001b[0m                                 Traceback (most recent call last)",
            "\u001b[0;32m<ipython-input-2-edc4b706089e>\u001b[0m in \u001b[0;36m<module>\u001b[0;34m()\u001b[0m\n\u001b[1;32m     11\u001b[0m \u001b[0;34m\u001b[0m\u001b[0m\n\u001b[1;32m     12\u001b[0m \u001b[0mprint\u001b[0m\u001b[0;34m(\u001b[0m\u001b[0mdf1\u001b[0m\u001b[0;34m.\u001b[0m\u001b[0misnull\u001b[0m\u001b[0;34m(\u001b[0m\u001b[0;34m)\u001b[0m\u001b[0;34m)\u001b[0m\u001b[0;34m\u001b[0m\u001b[0;34m\u001b[0m\u001b[0m\n\u001b[0;32m---> 13\u001b[0;31m \u001b[0mprint\u001b[0m\u001b[0;34m(\u001b[0m\u001b[0mdf1\u001b[0m\u001b[0;34m,\u001b[0m\u001b[0mdropna\u001b[0m\u001b[0;34m(\u001b[0m\u001b[0maxis\u001b[0m\u001b[0;34m=\u001b[0m\u001b[0;36m0\u001b[0m\u001b[0;34m)\u001b[0m\u001b[0;34m)\u001b[0m\u001b[0;34m\u001b[0m\u001b[0;34m\u001b[0m\u001b[0m\n\u001b[0m",
            "\u001b[0;31mNameError\u001b[0m: name 'dropna' is not defined"
          ]
        }
      ]
    },
    {
      "cell_type": "markdown",
      "metadata": {
        "id": "z1sv0aluZhcd"
      },
      "source": [
        "2. In the data given below,fill the missing data with 20."
      ]
    },
    {
      "cell_type": "code",
      "metadata": {
        "colab": {
          "base_uri": "https://localhost:8080/"
        },
        "id": "x3ZHFCeyZ0j2",
        "outputId": "1ee45282-e4be-405a-bc87-ef179489f9b7"
      },
      "source": [
        "import pandas as pd\n",
        "import numpy as np\n",
        "dates = pd.date_range('20210101',periods=6)\n",
        "df = pd.DataFrame(np.random.randn(6,4), index=dates,columns=list('ABCD'))\n",
        "s1 = pd.Series([1,2,3,4,5,6], index=pd.date_range('20130102', periods=6))\n",
        "df[\"F\"]=s1\n",
        "df1=df.reindex(index=dates[0:4], columns=list(df.columns) + ['E'])\n",
        "df1.loc[dates[0]:dates[1],'E'] = 1\n",
        "df1\n",
        "#please provide your answer below this line\n",
        "print(df1.fillna(value=20))"
      ],
      "execution_count": 3,
      "outputs": [
        {
          "output_type": "stream",
          "name": "stdout",
          "text": [
            "                   A         B         C         D     F     E\n",
            "2021-01-01  2.300093 -0.170055 -0.556868 -0.079460  20.0   1.0\n",
            "2021-01-02 -0.233919 -1.065490  2.528757 -2.381983  20.0   1.0\n",
            "2021-01-03  0.930625  0.042251  0.933217  0.472824  20.0  20.0\n",
            "2021-01-04 -0.170167 -1.521353  1.010568 -0.925820  20.0  20.0\n"
          ]
        }
      ]
    },
    {
      "cell_type": "markdown",
      "metadata": {
        "id": "vMzwvpxcZ3G8"
      },
      "source": [
        "3. From the data given below,\n",
        "  - break the data in to pieces from 0 t0 2 ,3 t0 7\n",
        "  - concatenate the pieces.\n",
        "  - concatenate the pieces along axis 1\n",
        "  - label each as 'a' and 'b' respectively and perform concatenation."
      ]
    },
    {
      "cell_type": "code",
      "metadata": {
        "colab": {
          "base_uri": "https://localhost:8080/"
        },
        "id": "LxGwKPTVbbXV",
        "outputId": "fde333bc-f79e-4006-d746-e02f6cd5e41a"
      },
      "source": [
        "import pandas as pd\n",
        "import numpy as np\n",
        "df = pd.DataFrame(np.random.randn(10, 4))\n",
        "df\n",
        "#please provide your answer below this line\n",
        " \n",
        "pieces=[df[:3],df[3:8]]\n",
        "print(pieces)\n",
        "print(pd.concat(pieces))\n",
        "print(pd.concat(pieces,axis=1))\n",
        "a=df[:3]\n",
        "b=df[3:8]\n",
        "print(pd.concat([a,]))"
      ],
      "execution_count": 4,
      "outputs": [
        {
          "output_type": "stream",
          "name": "stdout",
          "text": [
            "[          0         1         2         3\n",
            "0 -0.741656  0.442002 -0.081551 -0.258148\n",
            "1 -0.948077 -0.467956  0.166510  0.153132\n",
            "2 -0.051762 -0.946220 -0.214892 -1.207395,           0         1         2         3\n",
            "3  0.933677 -0.809497  0.091340 -2.321790\n",
            "4  0.485019  0.305309 -1.212817  0.217768\n",
            "5 -0.823022  0.193599 -0.199855 -0.736819\n",
            "6 -1.779772  0.841068  1.723295  0.550136\n",
            "7 -0.419247 -1.066417 -0.533806 -0.027826]\n",
            "          0         1         2         3\n",
            "0 -0.741656  0.442002 -0.081551 -0.258148\n",
            "1 -0.948077 -0.467956  0.166510  0.153132\n",
            "2 -0.051762 -0.946220 -0.214892 -1.207395\n",
            "3  0.933677 -0.809497  0.091340 -2.321790\n",
            "4  0.485019  0.305309 -1.212817  0.217768\n",
            "5 -0.823022  0.193599 -0.199855 -0.736819\n",
            "6 -1.779772  0.841068  1.723295  0.550136\n",
            "7 -0.419247 -1.066417 -0.533806 -0.027826\n",
            "          0         1         2  ...         1         2         3\n",
            "0 -0.741656  0.442002 -0.081551  ...       NaN       NaN       NaN\n",
            "1 -0.948077 -0.467956  0.166510  ...       NaN       NaN       NaN\n",
            "2 -0.051762 -0.946220 -0.214892  ...       NaN       NaN       NaN\n",
            "3       NaN       NaN       NaN  ... -0.809497  0.091340 -2.321790\n",
            "4       NaN       NaN       NaN  ...  0.305309 -1.212817  0.217768\n",
            "5       NaN       NaN       NaN  ...  0.193599 -0.199855 -0.736819\n",
            "6       NaN       NaN       NaN  ...  0.841068  1.723295  0.550136\n",
            "7       NaN       NaN       NaN  ... -1.066417 -0.533806 -0.027826\n",
            "\n",
            "[8 rows x 8 columns]\n",
            "          0         1         2         3\n",
            "0 -0.741656  0.442002 -0.081551 -0.258148\n",
            "1 -0.948077 -0.467956  0.166510  0.153132\n",
            "2 -0.051762 -0.946220 -0.214892 -1.207395\n"
          ]
        }
      ]
    },
    {
      "cell_type": "code",
      "metadata": {
        "id": "h290MAgudPQI"
      },
      "source": [
        ""
      ],
      "execution_count": null,
      "outputs": []
    }
  ]
}