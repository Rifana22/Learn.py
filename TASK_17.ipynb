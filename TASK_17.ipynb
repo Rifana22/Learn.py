{
  "nbformat": 4,
  "nbformat_minor": 0,
  "metadata": {
    "colab": {
      "name": "TASK 17.ipynb",
      "provenance": [],
      "include_colab_link": true
    },
    "kernelspec": {
      "name": "python3",
      "display_name": "Python 3"
    },
    "language_info": {
      "name": "python"
    }
  },
  "cells": [
    {
      "cell_type": "markdown",
      "metadata": {
        "id": "view-in-github",
        "colab_type": "text"
      },
      "source": [
        "<a href=\"https://colab.research.google.com/github/Rifana22/Learn.py/blob/main/TASK_17.ipynb\" target=\"_parent\"><img src=\"https://colab.research.google.com/assets/colab-badge.svg\" alt=\"Open In Colab\"/></a>"
      ]
    },
    {
      "cell_type": "markdown",
      "metadata": {
        "id": "0SLapvpoaeYY"
      },
      "source": [
        "1. Create a DataFrame by passing a random numpy array,with a datetie index and labelled columns.and display its,\n",
        "     - Head\n",
        "     - Tail\n",
        "     - Index \n",
        "     - Columns\n",
        "     - Values\n",
        "     - statistics\n"
      ]
    },
    {
      "cell_type": "code",
      "metadata": {
        "id": "zJDkjyVxa5yU",
        "outputId": "d5a74f53-2b25-4a96-b5b3-9da1d654037c",
        "colab": {
          "base_uri": "https://localhost:8080/"
        }
      },
      "source": [
        "#please type your answer below this line.\n",
        "import pandas as pd\n",
        "import numpy as np\n",
        "dates=pd.date_range('20201010',periods=6)\n",
        "df=pd.DataFrame(np.random.randn(6,4),index=dates,columns=list('ABCD'))\n",
        "print(df)\n",
        "print(df.head())\n",
        "print(df.tail())\n",
        "print(df.index)\n",
        "print(df.columns)\n",
        "print(df.values)\n",
        "print(df.describe())"
      ],
      "execution_count": 2,
      "outputs": [
        {
          "output_type": "stream",
          "name": "stdout",
          "text": [
            "                   A         B         C         D\n",
            "2020-10-10 -1.042533  1.231850 -0.463628  0.248215\n",
            "2020-10-11  0.081531 -1.131506 -0.528422 -1.158694\n",
            "2020-10-12  1.065781  1.696871  1.577275  0.316278\n",
            "2020-10-13 -0.195809  1.750098 -1.410219  0.142380\n",
            "2020-10-14 -0.378494 -1.427351 -0.736680 -1.381241\n",
            "2020-10-15  0.871242 -0.797382  0.855366 -0.557021\n",
            "                   A         B         C         D\n",
            "2020-10-10 -1.042533  1.231850 -0.463628  0.248215\n",
            "2020-10-11  0.081531 -1.131506 -0.528422 -1.158694\n",
            "2020-10-12  1.065781  1.696871  1.577275  0.316278\n",
            "2020-10-13 -0.195809  1.750098 -1.410219  0.142380\n",
            "2020-10-14 -0.378494 -1.427351 -0.736680 -1.381241\n",
            "                   A         B         C         D\n",
            "2020-10-11  0.081531 -1.131506 -0.528422 -1.158694\n",
            "2020-10-12  1.065781  1.696871  1.577275  0.316278\n",
            "2020-10-13 -0.195809  1.750098 -1.410219  0.142380\n",
            "2020-10-14 -0.378494 -1.427351 -0.736680 -1.381241\n",
            "2020-10-15  0.871242 -0.797382  0.855366 -0.557021\n",
            "DatetimeIndex(['2020-10-10', '2020-10-11', '2020-10-12', '2020-10-13',\n",
            "               '2020-10-14', '2020-10-15'],\n",
            "              dtype='datetime64[ns]', freq='D')\n",
            "Index(['A', 'B', 'C', 'D'], dtype='object')\n",
            "[[-1.04253286  1.23185032 -0.46362779  0.24821452]\n",
            " [ 0.08153118 -1.1315059  -0.52842218 -1.15869442]\n",
            " [ 1.06578129  1.6968709   1.57727519  0.31627797]\n",
            " [-0.19580875  1.75009836 -1.41021859  0.14238025]\n",
            " [-0.37849447 -1.42735087 -0.73668016 -1.38124133]\n",
            " [ 0.87124179 -0.79738233  0.8553664  -0.55702054]]\n",
            "              A         B         C         D\n",
            "count  6.000000  6.000000  6.000000  6.000000\n",
            "mean   0.066953  0.220430 -0.117718 -0.398347\n",
            "std    0.792865  1.491415  1.110126  0.747061\n",
            "min   -1.042533 -1.427351 -1.410219 -1.381241\n",
            "25%   -0.332823 -1.047975 -0.684616 -1.008276\n",
            "50%   -0.057139  0.217234 -0.496025 -0.207320\n",
            "75%    0.673814  1.580616  0.525618  0.221756\n",
            "max    1.065781  1.750098  1.577275  0.316278\n"
          ]
        }
      ]
    },
    {
      "cell_type": "markdown",
      "metadata": {
        "id": "xnkA2mKDdyoO"
      },
      "source": [
        "2. Use the above table and,\n",
        "      - find transpose of your data.\n",
        "      - sort the index in the descending order of the date."
      ]
    },
    {
      "cell_type": "code",
      "metadata": {
        "id": "uqcQSEOufJ5P",
        "outputId": "0cb5f8e6-81b7-472a-a6de-2ad0233c0527",
        "colab": {
          "base_uri": "https://localhost:8080/"
        }
      },
      "source": [
        "#please provide your answer below this line.\n",
        "print(df.transpose())\n",
        "print(df.sort_index (ascending=False))"
      ],
      "execution_count": 4,
      "outputs": [
        {
          "output_type": "stream",
          "name": "stdout",
          "text": [
            "   2020-10-10  2020-10-11  2020-10-12  2020-10-13  2020-10-14  2020-10-15\n",
            "A   -1.042533    0.081531    1.065781   -0.195809   -0.378494    0.871242\n",
            "B    1.231850   -1.131506    1.696871    1.750098   -1.427351   -0.797382\n",
            "C   -0.463628   -0.528422    1.577275   -1.410219   -0.736680    0.855366\n",
            "D    0.248215   -1.158694    0.316278    0.142380   -1.381241   -0.557021\n",
            "                   A         B         C         D\n",
            "2020-10-15  0.871242 -0.797382  0.855366 -0.557021\n",
            "2020-10-14 -0.378494 -1.427351 -0.736680 -1.381241\n",
            "2020-10-13 -0.195809  1.750098 -1.410219  0.142380\n",
            "2020-10-12  1.065781  1.696871  1.577275  0.316278\n",
            "2020-10-11  0.081531 -1.131506 -0.528422 -1.158694\n",
            "2020-10-10 -1.042533  1.231850 -0.463628  0.248215\n"
          ]
        }
      ]
    },
    {
      "cell_type": "markdown",
      "metadata": {
        "id": "ss7s_8iDbAcL"
      },
      "source": [
        ""
      ]
    }
  ]
}