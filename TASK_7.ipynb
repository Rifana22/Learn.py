{
  "nbformat": 4,
  "nbformat_minor": 0,
  "metadata": {
    "colab": {
      "name": "TASK  7.ipynb",
      "provenance": [],
      "include_colab_link": true
    },
    "kernelspec": {
      "name": "python3",
      "display_name": "Python 3"
    },
    "language_info": {
      "name": "python"
    }
  },
  "cells": [
    {
      "cell_type": "markdown",
      "metadata": {
        "id": "view-in-github",
        "colab_type": "text"
      },
      "source": [
        "<a href=\"https://colab.research.google.com/github/Rifana22/Learn.py/blob/main/TASK_7.ipynb\" target=\"_parent\"><img src=\"https://colab.research.google.com/assets/colab-badge.svg\" alt=\"Open In Colab\"/></a>"
      ]
    },
    {
      "cell_type": "markdown",
      "metadata": {
        "id": "b0V3vwzcydKy"
      },
      "source": [
        "1. Write a program to check whether a  string is palindrome or not using functions. \n",
        "\n",
        "   ( A function is to be created to check whether the string is palindrome and it should give the output true or false to the main program)"
      ]
    },
    {
      "cell_type": "code",
      "metadata": {
        "id": "M2Mi7EOdyxiu"
      },
      "source": [
        "#please enter the code below this line.\n",
        "s=input(\"enter the string:\")\n",
        "if (s==s[::-1]):\n",
        "    print(\"This is a palindrome\")\n",
        "else:\n",
        "    print(\"This is not a palindrome\")"
      ],
      "execution_count": null,
      "outputs": []
    },
    {
      "cell_type": "markdown",
      "metadata": {
        "id": "vSiShTyOzEz-"
      },
      "source": [
        "2.  Write a menu driven program to find largest element in L, smallest element, avg of all values, sum of all values in L. All these operation should be performed in different functions and the result should be returned.\n",
        "\n",
        "\n",
        "      L=[23,24,11,90,1,41,9,99,28,56,72]"
      ]
    },
    {
      "cell_type": "code",
      "metadata": {
        "id": "fRtMIw_CzsmO",
        "outputId": "2039cd37-3afc-4491-dab5-4d557c60da3b",
        "colab": {
          "base_uri": "https://localhost:8080/"
        }
      },
      "source": [
        "#please enter the code below this line.\n",
        "L=[23,24,11,90,1,41,9,99,28,56,72]\n",
        "while True:\n",
        "    print(\"Menu driven program\")\n",
        "    print(\"1.largest among the list\")\n",
        "    print(\"2.smallest among the list\")\n",
        "    print(\"3.average of the list\")\n",
        "    print(\"4.sum of the list\")\n",
        "    choice=int(input(\"Enter your choice:\"))\n",
        "    if choice==1:\n",
        "        largest=max(L)\n",
        "        print(\"The largest among the list is:\",largest)\n",
        "    elif choice==2:\n",
        "        smallest=min(L)\n",
        "        print(\"The smallest among the list is:\",smallest)\n",
        "    elif choice==3:\n",
        "        average=sum(L)%len(L)\n",
        "        print(\"The average value of the list is:\",average)\n",
        "    elif choice==4:\n",
        "        sum=sum(L)\n",
        "        print(\"The sum of the list is:\",sum)\n",
        "    else:\n",
        "        print(\"Wrong choice\")"
      ],
      "execution_count": null,
      "outputs": [
        {
          "output_type": "stream",
          "text": [
            "Menu driven program\n",
            "1.largest among the list\n",
            "2.smallest among the list\n",
            "3.average of the list\n",
            "4.sum of the list\n"
          ],
          "name": "stdout"
        }
      ]
    }
  ]
}