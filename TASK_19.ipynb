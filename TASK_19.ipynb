{
  "nbformat": 4,
  "nbformat_minor": 0,
  "metadata": {
    "colab": {
      "name": "TASK 19.ipynb",
      "provenance": [],
      "include_colab_link": true
    },
    "kernelspec": {
      "name": "python3",
      "display_name": "Python 3"
    },
    "language_info": {
      "name": "python"
    }
  },
  "cells": [
    {
      "cell_type": "markdown",
      "metadata": {
        "id": "view-in-github",
        "colab_type": "text"
      },
      "source": [
        "<a href=\"https://colab.research.google.com/github/Rifana22/Learn.py/blob/main/TASK_19.ipynb\" target=\"_parent\"><img src=\"https://colab.research.google.com/assets/colab-badge.svg\" alt=\"Open In Colab\"/></a>"
      ]
    },
    {
      "cell_type": "markdown",
      "metadata": {
        "id": "6J-6GvX2JUcC"
      },
      "source": [
        "1. Create a DataFrame by passing a random numpy array,with a dateted index and labelled columns and display,\n",
        "  - where values of the column A is greater than 0.\n",
        "  - where values of the columns A is greater than 0 and B greater than -1.\n",
        "  - where values of the columns A  is greater than 0 or B greater than -1.\n"
      ]
    },
    {
      "cell_type": "code",
      "metadata": {
        "id": "xX-5VikpLcHL",
        "outputId": "928bb1e9-3bc9-469b-b1a4-fb9d0d0de76e",
        "colab": {
          "base_uri": "https://localhost:8080/"
        }
      },
      "source": [
        "#please type your code below this line.\n",
        " \n",
        "import pandas as pd\n",
        "import numpy as np\n",
        "dates=pd.date_range('20201010',periods=6)\n",
        "df=pd.DataFrame(np.random.randn(6,4),index=dates,columns=list('ABCD'))\n",
        "print(df)\n",
        "a=df[df.A>0]\n",
        "print(a)\n",
        "print(df[(df.A>0)&(df.B>-1)])\n",
        "print(df[(df.A>0)|(df.B>-1)])"
      ],
      "execution_count": 3,
      "outputs": [
        {
          "output_type": "stream",
          "name": "stdout",
          "text": [
            "                   A         B         C         D\n",
            "2020-10-10  1.549606 -0.963019  0.282243 -0.112751\n",
            "2020-10-11  1.130601 -0.978766 -0.079795  0.269374\n",
            "2020-10-12  0.101726  0.170137 -0.440592 -0.661340\n",
            "2020-10-13 -1.703979  0.297166  1.146412  0.077283\n",
            "2020-10-14 -0.512416 -0.342190 -0.956706 -0.861078\n",
            "2020-10-15 -1.296871  1.775569  0.061730  0.514713\n",
            "                   A         B         C         D\n",
            "2020-10-10  1.549606 -0.963019  0.282243 -0.112751\n",
            "2020-10-11  1.130601 -0.978766 -0.079795  0.269374\n",
            "2020-10-12  0.101726  0.170137 -0.440592 -0.661340\n",
            "                   A         B         C         D\n",
            "2020-10-10  1.549606 -0.963019  0.282243 -0.112751\n",
            "2020-10-11  1.130601 -0.978766 -0.079795  0.269374\n",
            "2020-10-12  0.101726  0.170137 -0.440592 -0.661340\n",
            "                   A         B         C         D\n",
            "2020-10-10  1.549606 -0.963019  0.282243 -0.112751\n",
            "2020-10-11  1.130601 -0.978766 -0.079795  0.269374\n",
            "2020-10-12  0.101726  0.170137 -0.440592 -0.661340\n",
            "2020-10-13 -1.703979  0.297166  1.146412  0.077283\n",
            "2020-10-14 -0.512416 -0.342190 -0.956706 -0.861078\n",
            "2020-10-15 -1.296871  1.775569  0.061730  0.514713\n"
          ]
        }
      ]
    },
    {
      "cell_type": "markdown",
      "metadata": {
        "id": "1WAf9SbwLp6o"
      },
      "source": [
        "2. Create a DataFrame by passing a random numpy array,with a dateted index and labelled columns and check if ,\n",
        "  - the values of the table are greater the zero or not.\n",
        "  - the value at the postion (0,0) is equal to NaN or not."
      ]
    },
    {
      "cell_type": "code",
      "metadata": {
        "id": "rBrt8pMeM2Q5",
        "outputId": "81b3fd48-7169-4949-ab97-b54525ae42ef",
        "colab": {
          "base_uri": "https://localhost:8080/"
        }
      },
      "source": [
        "#please type your code below this line.\n",
        " \n",
        "import pandas as pd\n",
        "import numpy as np\n",
        "dates=pd.date_range('20201010',periods=6)\n",
        "df=pd.DataFrame(np.random.randn(6,4),index=dates,columns=list('ABCD'))\n",
        "print(df)\n",
        "print(df>0)\n",
        "df1=df.loc[dates[0],'A']\n",
        "print(pd.isna(df1))"
      ],
      "execution_count": 4,
      "outputs": [
        {
          "output_type": "stream",
          "name": "stdout",
          "text": [
            "                   A         B         C         D\n",
            "2020-10-10 -0.112902  1.118037  0.467158  0.005045\n",
            "2020-10-11 -0.313480  1.060565 -0.496239  0.840585\n",
            "2020-10-12 -0.579391  0.505012 -0.707546  0.902936\n",
            "2020-10-13  0.309111  0.093193  1.319504  0.961146\n",
            "2020-10-14  0.423364  0.650646 -1.779675 -0.742413\n",
            "2020-10-15 -1.399301 -0.090170 -0.530111  0.176884\n",
            "                A      B      C      D\n",
            "2020-10-10  False   True   True   True\n",
            "2020-10-11  False   True  False   True\n",
            "2020-10-12  False   True  False   True\n",
            "2020-10-13   True   True   True   True\n",
            "2020-10-14   True   True  False  False\n",
            "2020-10-15  False  False  False   True\n",
            "False\n"
          ]
        }
      ]
    },
    {
      "cell_type": "markdown",
      "metadata": {
        "id": "IfM9XYmiNaKB"
      },
      "source": [
        "3. Create a DataFrame by passing a random numpy array,with a dateted index and labelled columns and,\n",
        "  - reindex the index with even dates.\n",
        "  - create a column with values NaN.\n",
        "  - make the values of the first two index of the newly created column as 1"
      ]
    },
    {
      "cell_type": "code",
      "metadata": {
        "id": "F-w8kEfaORg3",
        "outputId": "05ed1be7-e70a-4e1b-86a1-b9c3cc509a96",
        "colab": {
          "base_uri": "https://localhost:8080/"
        }
      },
      "source": [
        "#please type your answer below this line.\n",
        "import pandas as pd\n",
        "import numpy as np\n",
        "dates=pd.date_range('20201010',periods=6)\n",
        "df=pd.DataFrame(np.random.randn(6,4),index=dates,columns=list('ABCD'))\n",
        "print(df1)\n",
        "df1=df.reindex(index=dates[::2],columns=list(df.columns))\n",
        "print(df1.assign(E=np.nan))\n",
        "df1.loc[dates[0]:dates[2],'E']=1\n",
        "print(df1)"
      ],
      "execution_count": 5,
      "outputs": [
        {
          "output_type": "stream",
          "name": "stdout",
          "text": [
            "-0.11290231668191104\n",
            "                   A         B         C         D   E\n",
            "2020-10-10  0.698703  0.829427  1.567729 -0.658916 NaN\n",
            "2020-10-12 -0.164609  0.132972 -1.488502 -0.883901 NaN\n",
            "2020-10-14 -0.860478 -1.482126 -0.616202  0.233670 NaN\n",
            "                   A         B         C         D    E\n",
            "2020-10-10  0.698703  0.829427  1.567729 -0.658916  1.0\n",
            "2020-10-12 -0.164609  0.132972 -1.488502 -0.883901  1.0\n",
            "2020-10-14 -0.860478 -1.482126 -0.616202  0.233670  NaN\n"
          ]
        }
      ]
    }
  ]
}